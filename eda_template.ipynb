{
 "cells": [
  {
   "cell_type": "markdown",
   "id": "64895750",
   "metadata": {},
   "source": [
    "# Exploratory Data Analysis (EDA) Template\n",
    "\n",
    "This notebook provides a reusable template for performing EDA on any dataset, particularly suitable for Kaggle datasets."
   ]
  },
  {
   "cell_type": "code",
   "execution_count": null,
   "id": "10d974ce",
   "metadata": {},
   "outputs": [],
   "source": [
    "import numpy as np\n",
    "import pandas as pd\n",
    "import matplotlib.pyplot as plt\n",
    "import seaborn as sns\n",
    "import plotly.express as px\n",
    "\n",
    "sns.set(style='whitegrid')\n",
    "%matplotlib inline"
   ]
  },
  {
   "cell_type": "markdown",
   "id": "c29665ef",
   "metadata": {},
   "source": [
    "## Load the Dataset"
   ]
  },
  {
   "cell_type": "code",
   "execution_count": null,
   "id": "17e2cabc",
   "metadata": {},
   "outputs": [],
   "source": [
    "# Replace 'your_dataset.csv' with your dataset file\n",
    "df = pd.read_csv('your_dataset.csv')\n",
    "df.head()"
   ]
  },
  {
   "cell_type": "markdown",
   "id": "c7c39f3a",
   "metadata": {},
   "source": [
    "## Basic Dataset Information"
   ]
  },
  {
   "cell_type": "code",
   "execution_count": null,
   "id": "e25feac2",
   "metadata": {},
   "outputs": [],
   "source": [
    "df.info()\n",
    "df.describe().T"
   ]
  },
  {
   "cell_type": "markdown",
   "id": "166a95c6",
   "metadata": {},
   "source": [
    "## Missing Values"
   ]
  },
  {
   "cell_type": "code",
   "execution_count": null,
   "id": "a70f4158",
   "metadata": {},
   "outputs": [],
   "source": [
    "missing = df.isnull().sum()\n",
    "missing = missing[missing > 0]\n",
    "missing.sort_values(ascending=False)"
   ]
  },
  {
   "cell_type": "markdown",
   "id": "d46deddf",
   "metadata": {},
   "source": [
    "## Data Types Overview"
   ]
  },
  {
   "cell_type": "code",
   "execution_count": null,
   "id": "01423b35",
   "metadata": {},
   "outputs": [],
   "source": [
    "df.dtypes.value_counts()"
   ]
  },
  {
   "cell_type": "markdown",
   "id": "data_cleaning_preprocessing",
   "metadata": {},
   "source": [
    "## Data Cleaning and Preprocessing\n",
    "\n",
    "### Handle Duplicate Rows\n",
    "print(f'Number of duplicate rows: {df.duplicated().sum()}')\n",
    "df.drop_duplicates(inplace=True)\n",
    "print(f'Number of rows after dropping duplicates: {df.shape[0]}')\n",
    "\n",
    "### Outlier Detection and Treatment (Numerical Features)\n",
    "# Using Box Plots for visualization\n",
    "for col in num_cols:\n",
    "    plt.figure(figsize=(8, 4))\n",
    "    sns.boxplot(x=df[col])\n",
    "    plt.title(f'Box Plot of {col}')\n",
    "    plt.show()\n",
    "\n",
    "# Example: Outlier treatment using IQR method (for a specific column)\n",
    "# Q1 = df['your_numerical_column'].quantile(0.25)\n",
    "# Q3 = df['your_numerical_column'].quantile(0.75)\n",
    "# IQR = Q3 - Q1\n",
    "# lower_bound = Q1 - 1.5 * IQR\n",
    "# upper_bound = Q3 + 1.5 * IQR\n",
    "# df = df[(df['your_numerical_column'] >= lower_bound) & (df['your_numerical_column'] <= upper_bound)]\n",
    "\n",
    "### Data Type Conversion (if needed)\n",
    "# Example: df['column_name'] = pd.to_datetime(df['column_name'])"
   ]
  },
  {
   "cell_type": "markdown",
   "id": "advanced_univariate_analysis",
   "metadata": {},
   "source": [
    "## Advanced Univariate Analysis\n",
    "\n",
    "### Numerical Feature Statistics\n",
    "print('\\nSkewness and Kurtosis for Numerical Features:')\n",
    "print(df[num_cols].skew())\n",
    "print(df[num_cols].kurt())\n",
    "\n",
    "### Categorical Feature Distributions\n",
    "for col in cat_cols:\n",
    "    plt.figure(figsize=(10, 6))\n",
    "    sns.countplot(y=df[col], order=df[col].value_counts().index, palette='viridis')\n",
    "    plt.title(f'Distribution of {col}')\n",
    "    plt.xlabel('Count')\n",
    "    plt.ylabel(col)\n",
    "    plt.show()\n",
    "    print(f'\\nPercentage distribution for {col}:')\n",
    "    print(df[col].value_counts(normalize=True) * 100)"
   ]
  },
  {
   "cell_type": "markdown",
   "id": "bivariate_analysis",
   "metadata": {},
   "source": [
    "## Bivariate Analysis\n",
    "\n",
    "### Numerical vs. Numerical Features\n",
    "# Pair plot for selected numerical features\n",
    "if len(num_cols) > 1:\n",
    "    sns.pairplot(df[num_cols[:min(5, len(num_cols))]]) # Limiting to 5 for readability\n",
    "    plt.suptitle('Pair Plot of Numerical Features', y=1.02)\n",
    "    plt.show()\n",
    "\n",
    "# Scatter plots with regression line\n",
    "if len(num_cols) > 1:\n",
    "    plt.figure(figsize=(10, 6))\n",
    "    sns.regplot(x=df[num_cols[0]], y=df[num_cols[1]])\n",
    "    plt.title(f'Scatter Plot with Regression Line: {num_cols[0]} vs {num_cols[1]}')\n",
    "    plt.show()\n",
    "\n",
    "### Categorical vs. Numerical Features\n",
    "for cat_col in cat_cols:\n",
    "    for num_col in num_cols:\n",
    "        plt.figure(figsize=(10, 6))\n",
    "        sns.boxplot(x=df[cat_col], y=df[num_col], palette='pastel')\n",
    "        plt.title(f'{num_col} by {cat_col}')\n",
    "        plt.xticks(rotation=45)\n",
    "        plt.show()\n",
    "        \n",
    "        plt.figure(figsize=(10, 6))\n",
    "        sns.violinplot(x=df[cat_col], y=df[num_col], palette='pastel')\n",
    "        plt.title(f'Violin Plot of {num_col} by {cat_col}')\n",
    "        plt.xticks(rotation=45)\n",
    "        plt.show()\n",
    "\n",
    "### Categorical vs. Categorical Features\n",
    "for i in range(len(cat_cols)):\n",
    "    for j in range(i + 1, len(cat_cols)):\n",
    "        cat1 = cat_cols[i]\n",
    "        cat2 = cat_cols[j]\n",
    "        \n",
    "        # Cross-tabulation\n",
    "        print(f'\\nCross-tabulation of {cat1} and {cat2}:')\n",
    "        cross_tab = pd.crosstab(df[cat1], df[cat2])\n",
    "        print(cross_tab)\n",
    "        \n",
    "        # Stacked Bar Plot\n",
    "        cross_tab.plot(kind='bar', stacked=True, figsize=(10, 6))\n",
    "        plt.title(f'Stacked Bar Plot of {cat1} by {cat2}')\n",
    "        plt.ylabel('Count')\n",
    "        plt.xticks(rotation=45)\n",
    "        plt.show()"
   ]
  },
  {
   "cell_type": "markdown",
   "id": "multivariate_analysis",
   "metadata": {},
   "source": [
    "## Multivariate Analysis\n",
    "\n",
    "### Pair Plot with Hue\n",
    "# Example: Pair plot with a categorical variable as hue\n",
    "if len(num_cols) > 1 and len(cat_cols) > 0:\n",
    "    sns.pairplot(df[num_cols[:min(4, len(num_cols))].tolist() + [cat_cols[0]]], hue=cat_cols[0])\n",
    "    plt.suptitle('Pair Plot with Categorical Hue', y=1.02)\n",
    "    plt.show()\n",
    "\n",
    "### 3D Scatter Plot (requires more than 2 numerical features)\n",
    "if len(num_cols) >= 3:\n",
    "    fig = px.scatter_3d(df, x=num_cols[0], y=num_cols[1], z=num_cols[2],\n",
    "                        color=cat_cols[0] if len(cat_cols) > 0 else None,\n",
    "                        title='3D Scatter Plot')\n",
    "    fig.show()"
   ]
  },
  {
   "cell_type": "markdown",
   "id": "time_series_analysis",
   "metadata": {},
   "source": [
    "## Time Series Analysis (Optional)\n",
    "\n",
    "### Convert to Datetime (if applicable)\n",
    "# df['date_column'] = pd.to_datetime(df['date_column'])\n",
    "# df.set_index('date_column', inplace=True)\n",
    "\n",
    "### Resampling and Aggregation\n",
    "# Example: Daily mean of a numerical column\n",
    "# df['numerical_column'].resample('D').mean().plot(figsize=(12, 6))\n",
    "# plt.title('Daily Mean of Numerical Column')\n",
    "# plt.show()\n",
    "\n",
    "### Trend and Seasonality\n",
    "# from statsmodels.tsa.seasonal import seasonal_decompose\n",
    "# result = seasonal_decompose(df['numerical_column'].dropna(), model='additive', period=365) # Adjust period as needed\n",
    "# result.plot()\n",
    "# plt.show()\n",
    "\n",
    "### Autocorrelation and Partial Autocorrelation Plots\n",
    "# from statsmodels.graphics.tsaplots import plot_acf, plot_pacf\n",
    "# plot_acf(df['numerical_column'].dropna(), lags=50)\n",
    "# plt.show()\n",
    "# plot_pacf(df['numerical_column'].dropna(), lags=50)\n",
    "# plt.show()"
   ]
  },
  {
   "cell_type": "markdown",
   "id": "feature_engineering",
   "metadata": {},
   "source": [
    "## Feature Engineering (Basic)\n",
    "\n",
    "### Creating New Features\n",
    "# Example: Combining existing features\n",
    "# df['new_feature'] = df['feature1'] + df['feature2']\n",
    "\n",
    "# Example: Extracting information from datetime columns\n",
    "# df['year'] = df.index.year\n",
    "# df['month'] = df.index.month\n",
    "# df['day_of_week'] = df.index.dayofweek"
   ]
  },
  {
   "cell_type": "markdown",
   "id": "summary_of_findings",
   "metadata": {},
   "source": [
    "## Summary of Findings\n",
    "\n",
    "### Key Insights\n",
    "*   Summarize the main observations from the EDA.\n",
    "*   Mention any significant patterns, correlations, or anomalies found.\n",
    "*   Discuss the quality of the data (missing values, outliers, data types).\n",
    "\n",
    "### Next Steps\n",
    "*   Suggest potential feature engineering ideas.\n",
    "*   Propose modeling approaches based on insights.\n",
    "*   Recommend further data collection or cleaning if necessary."
   ]
  },
  {
   "cell_type": "markdown",
   "id": "238a14fa",
   "metadata": {},
   "source": [
    "## Distribution of Numerical Features"
   ]
  },
  {
   "cell_type": "code",
   "execution_count": null,
   "id": "d7ae17b3",
   "metadata": {},
   "outputs": [],
   "source": [
    "num_cols = df.select_dtypes(include=np.number).columns\n",
    "df[num_cols].hist(figsize=(15, 10), bins=30, edgecolor='black')\n",
    "plt.tight_layout()"
   ]
  },
  {
   "cell_type": "markdown",
   "id": "43ec8c17",
   "metadata": {},
   "source": [
    "## Correlation Heatmap"
   ]
  },
  {
   "cell_type": "code",
   "execution_count": null,
   "id": "1130c70d",
   "metadata": {},
   "outputs": [],
   "source": [
    "plt.figure(figsize=(12, 8))\n",
    "sns.heatmap(df[num_cols].corr(), annot=True, fmt='.2f', cmap='coolwarm')"
   ]
  },
  {
   "cell_type": "markdown",
   "id": "32af41df",
   "metadata": {},
   "source": [
    "## Feature Distributions with Seaborn"
   ]
  },
  {
   "cell_type": "code",
   "execution_count": null,
   "id": "e90f31cc",
   "metadata": {},
   "outputs": [],
   "source": [
    "# Example: Distribution of a specific column\n",
    "sns.histplot(df[num_cols[0]], kde=True)"
   ]
  },
  {
   "cell_type": "markdown",
   "id": "82a1ed85",
   "metadata": {},
   "source": [
    "## Interactive Visualization with Plotly"
   ]
  },
  {
   "cell_type": "code",
   "execution_count": null,
   "id": "7eb4d89a",
   "metadata": {},
   "outputs": [],
   "source": [
    "# Example: Interactive scatter plot\n",
    "px.scatter(df, x=num_cols[0], y=num_cols[1],\n",
    "           color=num_cols[2] if len(num_cols) > 2 else None)"
   ]
  },
  {
   "cell_type": "markdown",
   "id": "85573eea",
   "metadata": {},
   "source": [
    "## Categorical Features Analysis"
   ]
  },
  {
   "cell_type": "code",
   "execution_count": null,
   "id": "9aca13f8",
   "metadata": {},
   "outputs": [],
   "source": [
    "cat_cols = df.select_dtypes(include='object').columns\n",
    "for col in cat_cols:\n",
    "    print(f'\\nValue counts for {col}:')\n",
    "    print(df[col].value_counts())"
   ]
  }
 ],
 "metadata": {
  "language_info": {
   "name": "python"
  }
 },
 "nbformat": 4,
 "nbformat_minor": 5
}

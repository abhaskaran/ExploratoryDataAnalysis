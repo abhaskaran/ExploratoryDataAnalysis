{
 "cells": [
  {
   "cell_type": "markdown",
   "id": "64895750",
   "metadata": {},
   "source": [
    "# Exploratory Data Analysis (EDA) Template\n",
    "This notebook provides a reusable template for performing EDA on any dataset, particularly suitable for Kaggle datasets."
   ]
  },
  {
   "cell_type": "code",
   "execution_count": null,
   "id": "10d974ce",
   "metadata": {},
   "outputs": [],
   "source": [
    "import numpy as np\n",
    "import pandas as pd\n",
    "import matplotlib.pyplot as plt\n",
    "import seaborn as sns\n",
    "import plotly.express as px\n",
    "\n",
    "sns.set(style='whitegrid')\n",
    "%matplotlib inline"
   ]
  },
  {
   "cell_type": "markdown",
   "id": "c29665ef",
   "metadata": {},
   "source": [
    "## Load the Dataset"
   ]
  },
  {
   "cell_type": "code",
   "execution_count": null,
   "id": "17e2cabc",
   "metadata": {},
   "outputs": [],
   "source": [
    "# Replace 'your_dataset.csv' with your dataset file\n",
    "df = pd.read_csv('your_dataset.csv')\n",
    "df.head()"
   ]
  },
  {
   "cell_type": "markdown",
   "id": "c7c39f3a",
   "metadata": {},
   "source": [
    "## Basic Dataset Information"
   ]
  },
  {
   "cell_type": "code",
   "execution_count": null,
   "id": "e25feac2",
   "metadata": {},
   "outputs": [],
   "source": [
    "df.info()\n",
    "df.describe().T"
   ]
  },
  {
   "cell_type": "markdown",
   "id": "166a95c6",
   "metadata": {},
   "source": [
    "## Missing Values"
   ]
  },
  {
   "cell_type": "code",
   "execution_count": null,
   "id": "a70f4158",
   "metadata": {},
   "outputs": [],
   "source": [
    "missing = df.isnull().sum()\n",
    "missing = missing[missing > 0]\n",
    "missing.sort_values(ascending=False)"
   ]
  },
  {
   "cell_type": "markdown",
   "id": "d46deddf",
   "metadata": {},
   "source": [
    "## Data Types Overview"
   ]
  },
  {
   "cell_type": "code",
   "execution_count": null,
   "id": "01423b35",
   "metadata": {},
   "outputs": [],
   "source": [
    "df.dtypes.value_counts()"
   ]
  },
  {
   "cell_type": "markdown",
   "id": "238a14fa",
   "metadata": {},
   "source": [
    "## Distribution of Numerical Features"
   ]
  },
  {
   "cell_type": "code",
   "execution_count": null,
   "id": "d7ae17b3",
   "metadata": {},
   "outputs": [],
   "source": [
    "num_cols = df.select_dtypes(include=np.number).columns\n",
    "df[num_cols].hist(figsize=(15, 10), bins=30, edgecolor='black')\n",
    "plt.tight_layout()"
   ]
  },
  {
   "cell_type": "markdown",
   "id": "43ec8c17",
   "metadata": {},
   "source": [
    "## Correlation Heatmap"
   ]
  },
  {
   "cell_type": "code",
   "execution_count": null,
   "id": "1130c70d",
   "metadata": {},
   "outputs": [],
   "source": [
    "plt.figure(figsize=(12, 8))\n",
    "sns.heatmap(df[num_cols].corr(), annot=True, fmt='.2f', cmap='coolwarm')"
   ]
  },
  {
   "cell_type": "markdown",
   "id": "32af41df",
   "metadata": {},
   "source": [
    "## Feature Distributions with Seaborn"
   ]
  },
  {
   "cell_type": "code",
   "execution_count": null,
   "id": "e90f31cc",
   "metadata": {},
   "outputs": [],
   "source": [
    "# Example: Distribution of a specific column\n",
    "sns.histplot(df[num_cols[0]], kde=True)"
   ]
  },
  {
   "cell_type": "markdown",
   "id": "82a1ed85",
   "metadata": {},
   "source": [
    "## Interactive Visualization with Plotly"
   ]
  },
  {
   "cell_type": "code",
   "execution_count": null,
   "id": "7eb4d89a",
   "metadata": {},
   "outputs": [],
   "source": [
    "# Example: Interactive scatter plot\n",
    "px.scatter(df, x=num_cols[0], y=num_cols[1],\n",
    "           color=num_cols[2] if len(num_cols) > 2 else None)"
   ]
  },
  {
   "cell_type": "markdown",
   "id": "85573eea",
   "metadata": {},
   "source": [
    "## Categorical Features Analysis"
   ]
  },
  {
   "cell_type": "code",
   "execution_count": null,
   "id": "9aca13f8",
   "metadata": {},
   "outputs": [],
   "source": [
    "cat_cols = df.select_dtypes(include='object').columns\n",
    "for col in cat_cols:\n",
    "    print(f'\\nValue counts for {col}:')\n",
    "    print(df[col].value_counts())"
   ]
  }
 ],
 "metadata": {
  "language_info": {
   "name": "python"
  }
 },
 "nbformat": 4,
 "nbformat_minor": 5
}
